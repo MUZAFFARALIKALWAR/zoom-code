{
  "nbformat": 4,
  "nbformat_minor": 0,
  "metadata": {
    "colab": {
      "provenance": [],
      "authorship_tag": "ABX9TyNPpGHhEHTu+rou61jJ5UMq",
      "include_colab_link": true
    },
    "kernelspec": {
      "name": "python3",
      "display_name": "Python 3"
    },
    "language_info": {
      "name": "python"
    }
  },
  "cells": [
    {
      "cell_type": "markdown",
      "metadata": {
        "id": "view-in-github",
        "colab_type": "text"
      },
      "source": [
        "<a href=\"https://colab.research.google.com/github/MUZAFFARALIKALWAR/zoom-code/blob/main/zoomclass.ipynb\" target=\"_parent\"><img src=\"https://colab.research.google.com/assets/colab-badge.svg\" alt=\"Open In Colab\"/></a>"
      ]
    },
    {
      "cell_type": "markdown",
      "source": [
        "# **Print Fun**"
      ],
      "metadata": {
        "id": "j_Ol5N9Rw3bo"
      }
    },
    {
      "cell_type": "code",
      "source": [
        "print(\"Hello world\")\n",
        "print(\"Hello Muzffar ALI\")"
      ],
      "metadata": {
        "colab": {
          "base_uri": "https://localhost:8080/"
        },
        "id": "Q1d6aunOxHpk",
        "outputId": "87fe3293-ed4a-47d9-fd17-14176e770e72"
      },
      "execution_count": 1,
      "outputs": [
        {
          "output_type": "stream",
          "name": "stdout",
          "text": [
            "Hello world\n",
            "Hello Muzffar ALI\n"
          ]
        }
      ]
    },
    {
      "cell_type": "markdown",
      "source": [
        "# **variablbes**"
      ],
      "metadata": {
        "id": "qVc9uPAqxyiW"
      }
    },
    {
      "cell_type": "code",
      "source": [
        "name = \"Muzaffar Ali\"\n",
        "city = \"Ghotki\"\n",
        "\n",
        "print(name,city)"
      ],
      "metadata": {
        "colab": {
          "base_uri": "https://localhost:8080/"
        },
        "id": "Tg-hMxZnx159",
        "outputId": "072479d5-4c01-44ee-c2db-d2ddef4fce93"
      },
      "execution_count": null,
      "outputs": [
        {
          "output_type": "stream",
          "name": "stdout",
          "text": [
            "Muzaffar Ali Ghotki\n"
          ]
        }
      ]
    },
    {
      "cell_type": "markdown",
      "source": [
        "# **data types **"
      ],
      "metadata": {
        "id": "Oc0rVU1ByqOJ"
      }
    },
    {
      "cell_type": "code",
      "source": [
        "name = \"Muzaffar Ali\"\n",
        "num = 23\n",
        "num2 = 23.4\n",
        "print(type(name))\n",
        "print( type(num) )\n",
        "print( type(num2) )"
      ],
      "metadata": {
        "colab": {
          "base_uri": "https://localhost:8080/"
        },
        "id": "yTm3MyDHyvNr",
        "outputId": "be3bd371-89db-423a-ec88-c12912f4d013"
      },
      "execution_count": null,
      "outputs": [
        {
          "output_type": "stream",
          "name": "stdout",
          "text": [
            "<class 'str'>\n",
            "<class 'int'>\n",
            "<class 'float'>\n"
          ]
        }
      ]
    },
    {
      "cell_type": "markdown",
      "source": [
        "# **input**"
      ],
      "metadata": {
        "id": "Vhu2yCWRJyYn"
      }
    },
    {
      "cell_type": "code",
      "source": [
        "user_input =  str(input(\"Enter Your Name: \"))\n",
        "print(user_input)"
      ],
      "metadata": {
        "colab": {
          "base_uri": "https://localhost:8080/"
        },
        "id": "6cAnezhhJ1JS",
        "outputId": "7d720e32-6732-4378-9ff2-681167b450c0"
      },
      "execution_count": null,
      "outputs": [
        {
          "output_type": "stream",
          "name": "stdout",
          "text": [
            "Enter Your Name: 6666\n",
            "6666\n"
          ]
        }
      ]
    },
    {
      "cell_type": "markdown",
      "source": [
        "# **operaters**"
      ],
      "metadata": {
        "id": "QFc7nDhqK84U"
      }
    },
    {
      "cell_type": "code",
      "source": [
        "num1 = 10\n",
        "num2 = 5\n",
        "\n",
        "print(num1 + num2)\n",
        "\n",
        "print(num1 - num2)\n",
        "print(num1 * num2)\n",
        "print(num1 / num2)\n",
        "print(num1 // num2)"
      ],
      "metadata": {
        "colab": {
          "base_uri": "https://localhost:8080/"
        },
        "id": "qCBjHq-QLCmW",
        "outputId": "9765cb74-c610-47eb-a312-498dc395c271"
      },
      "execution_count": null,
      "outputs": [
        {
          "output_type": "stream",
          "name": "stdout",
          "text": [
            "15\n",
            "5\n",
            "50\n",
            "2.0\n",
            "2\n"
          ]
        }
      ]
    },
    {
      "cell_type": "markdown",
      "source": [
        "# **Camparision Operaters**"
      ],
      "metadata": {
        "id": "bkE-unqgL4nL"
      }
    },
    {
      "cell_type": "code",
      "source": [
        "a = 10\n",
        "b = 5\n",
        "\n",
        "print( a == b )\n",
        "print( a < b )\n",
        "print( a <= b )\n",
        "print( a > b )\n",
        "print( a >= b )"
      ],
      "metadata": {
        "colab": {
          "base_uri": "https://localhost:8080/"
        },
        "id": "0FtvkZJBL-ss",
        "outputId": "b1d0ee6b-c0d4-4885-8752-66979ea009e2"
      },
      "execution_count": null,
      "outputs": [
        {
          "output_type": "stream",
          "name": "stdout",
          "text": [
            "False\n",
            "False\n",
            "False\n",
            "True\n",
            "True\n"
          ]
        }
      ]
    },
    {
      "cell_type": "markdown",
      "source": [
        "### **Logical Operaters**"
      ],
      "metadata": {
        "id": "6PR6mHW8MuGt"
      }
    },
    {
      "cell_type": "code",
      "source": [
        "# && --> and     ! --> not    || --> or\n",
        "num3 = 20\n",
        "num4 = 30\n",
        "        # true            true\n",
        "print(num3 == num4 and num3 < num4)\n",
        "print(num3 == num4 or num3 < num4)\n",
        "print(not num3 == num4)"
      ],
      "metadata": {
        "colab": {
          "base_uri": "https://localhost:8080/"
        },
        "id": "KEJ0Sg1iM0bS",
        "outputId": "1a4122a2-fc18-482d-b2b9-2edc04d45504"
      },
      "execution_count": null,
      "outputs": [
        {
          "output_type": "stream",
          "name": "stdout",
          "text": [
            "False\n",
            "True\n",
            "True\n"
          ]
        }
      ]
    },
    {
      "cell_type": "markdown",
      "source": [
        "# **if esle**"
      ],
      "metadata": {
        "id": "_NhkpbapOZ06"
      }
    },
    {
      "cell_type": "code",
      "source": [
        "user_input = str(input(\"Enter Your Name: \"))\n",
        "user_password = int(input(\"Enter Your Password: \"))\n",
        "name = \"khan\"\n",
        "password = 123\n",
        "if user_input == name and user_password == password  :\n",
        "  print(\"correct ...\")\n",
        "elif user_input == name or user_password == password :\n",
        "  print(\"User Loggedin\")\n",
        "else:\n",
        "  print(\"User Not Loggedin\")"
      ],
      "metadata": {
        "colab": {
          "base_uri": "https://localhost:8080/"
        },
        "id": "anGKm12qOc-x",
        "outputId": "e3fa7756-8da3-4879-b19c-e1f290cb379d"
      },
      "execution_count": null,
      "outputs": [
        {
          "output_type": "stream",
          "name": "stdout",
          "text": [
            "Enter Your Name: Khan\n",
            "Enter Your Password: 123\n",
            "User Loggedin\n"
          ]
        }
      ]
    }
  ]
}